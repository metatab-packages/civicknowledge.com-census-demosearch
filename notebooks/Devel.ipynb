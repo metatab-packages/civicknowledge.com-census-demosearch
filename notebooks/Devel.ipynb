{
 "cells": [
  {
   "cell_type": "code",
   "execution_count": 1,
   "metadata": {},
   "outputs": [],
   "source": [
    "import metapack as mp \n",
    "import pandas as pd\n",
    "import numpy as np\n",
    "\n",
    "%load_ext autoreload\n",
    "%autoreload 2\n",
    "\n",
    "import logging\n",
    "logging.basicConfig()\n",
    "\n",
    "\n",
    "\n",
    "from functools import reduce\n",
    "from itertools import chain\n",
    "from pathlib import Path\n",
    "from auto_tqdm import tqdm\n",
    "\n",
    "mp.jupyter.init()"
   ]
  },
  {
   "cell_type": "code",
   "execution_count": 2,
   "metadata": {},
   "outputs": [
    {
     "data": {
      "text/html": [
       "<h1>Demosearch Census Extract</h1>\n",
       "<p><code>civicknowledge.com-census-demosearch-1.2.5</code> Last Update: 2021-04-09T23:39:54</p>\n",
       "<p><em>Extract of select census variables for demographic radius searches</em></p>\n",
       "<h2>Building the package</h2>\n",
       "<p>Because the package can spend a long time downloading census data, a Jupyter notebook \n",
       "will time out. So, to build this package: </p>\n",
       "<ol>\n",
       "<li>Run <code>invoke build</code> to build CSV files in the data directory. Use <code>--force</code> to overwrite existing files.</li>\n",
       "<li>Run <code>mp build</code> to build the package</li>\n",
       "</ol>\n",
       "<h2>Contacts</h2>\n",
       "<ul>\n",
       "<li><strong>Wrangler</strong> <a href=\"mailto:eric@civicknowledge.com\">Eric Busboom</a>, <a href=\"http://civicknowledge.com\">Civic Knowledge</a></li>\n",
       "</ul>\n",
       "<h2>Resources</h2>\n",
       "<ul>\n",
       "<li><strong> <a href=\"file:data/census_set.csv\">census_set</a></strong>. Tract datasets combined into a single frame</li>\n",
       "<li><strong> <a href=\"file:data/agg_map.csv\">agg_map</a></strong>. Description of which columns were aggregated together</li>\n",
       "</ul>\n",
       "<h2>References</h2>\n",
       "<ul><li> <strong>B01001</string>, <em>census://2019/5/US/tract/B01001</em>. Sex by age</li><li> <strong>B01002</string>, <em>census://2019/5/US/tract/B01002</em>. Median Age by Sex</li><li> <strong>B11009</string>, <em>census://2018/5/US/tract/B11009</em>. Coupled Households by Type</li><li> <strong>B15003</string>, <em>census://2019/5/US/tract/B15003</em>. Educational Attainment</li><li> <strong>B25013</string>, <em>census://2019/5/US/tract/B25013</em>. Tenure by Educational Attainment of Householder</li><li> <strong>income_quartiles</string>, <em>index:civicknowledge.com-income_dist-tract#income_quartiles</em>. Estimtes of population in each income quartile per tract</li><li> <strong>aggregate_income</string>, <em>index:civicknowledge.com-income_dist-tract#census</em>. Census variabes related to income</li><ul>"
      ],
      "text/plain": [
       "# Demosearch Census Extract\n",
       "`civicknowledge.com-census-demosearch-1.2.5` Last Update: 2021-04-09T23:39:54\n",
       "\n",
       "_Extract of select census variables for demographic radius searches_\n",
       "\n",
       "\n",
       "## Building the package\n",
       "\n",
       "Because the package can spend a long time downloading census data, a Jupyter notebook \n",
       "will time out. So, to build this package: \n",
       "\n",
       "1. Run `invoke build` to build CSV files in the data directory. Use `--force` to overwrite existing files.\n",
       "2. Run `mp build` to build the package\n",
       "\n",
       "\n",
       " \n",
       "\n",
       "## Contacts\n",
       "\n",
       "* **Wrangler** [Eric Busboom](mailto:eric@civicknowledge.com), [Civic Knowledge](http://civicknowledge.com)\n",
       "\n",
       "## Resources\n",
       "\n",
       "* ** [census_set](file:data/census_set.csv)**. Tract datasets combined into a single frame\n",
       "* ** [agg_map](file:data/agg_map.csv)**. Description of which columns were aggregated together\n",
       "\n",
       "## References\n",
       "<ul><li> <strong>B01001</string>, <em>census://2019/5/US/tract/B01001</em>. Sex by age</li><li> <strong>B01002</string>, <em>census://2019/5/US/tract/B01002</em>. Median Age by Sex</li><li> <strong>B11009</string>, <em>census://2018/5/US/tract/B11009</em>. Coupled Households by Type</li><li> <strong>B15003</string>, <em>census://2019/5/US/tract/B15003</em>. Educational Attainment</li><li> <strong>B25013</string>, <em>census://2019/5/US/tract/B25013</em>. Tenure by Educational Attainment of Householder</li><li> <strong>income_quartiles</string>, <em>index:civicknowledge.com-income_dist-tract#income_quartiles</em>. Estimtes of population in each income quartile per tract</li><li> <strong>aggregate_income</string>, <em>index:civicknowledge.com-income_dist-tract#census</em>. Census variabes related to income</li><ul>\n"
      ]
     },
     "execution_count": 2,
     "metadata": {},
     "output_type": "execute_result"
    }
   ],
   "source": [
    "# pkg = mp.jupyter.open_package()\n",
    "pkg = mp.jupyter.open_source_package()\n",
    "pkg"
   ]
  },
  {
   "cell_type": "code",
   "execution_count": 4,
   "metadata": {},
   "outputs": [],
   "source": [
    "pkg.set_sys_path()\n",
    "import pylib\n",
    "pylib.logger.setLevel(logging.DEBUG)\n",
    "\n",
    "xm = pylib.ExtractManager(pkg)\n",
    "\n",
    "df = xm.base_census_df"
   ]
  },
  {
   "cell_type": "code",
   "execution_count": null,
   "metadata": {},
   "outputs": [],
   "source": []
  }
 ],
 "metadata": {
  "kernelspec": {
   "display_name": "Python 3",
   "language": "python",
   "name": "python3"
  },
  "language_info": {
   "codemirror_mode": {
    "name": "ipython",
    "version": 3
   },
   "file_extension": ".py",
   "mimetype": "text/x-python",
   "name": "python",
   "nbconvert_exporter": "python",
   "pygments_lexer": "ipython3",
   "version": "3.8.8"
  }
 },
 "nbformat": 4,
 "nbformat_minor": 4
}
